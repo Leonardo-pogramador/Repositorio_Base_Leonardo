{
 "cells": [
  {
   "cell_type": "markdown",
   "id": "9e5d2eb6",
   "metadata": {},
   "source": [
    "### Nome e Idade"
   ]
  },
  {
   "cell_type": "code",
   "execution_count": 5,
   "id": "cab6ee61",
   "metadata": {},
   "outputs": [
    {
     "name": "stdout",
     "output_type": "stream",
     "text": [
      "seu nome é: Leonardo\n"
     ]
    }
   ],
   "source": [
    "nome = input(\"qual seu nome??\")\n",
    "print(f\"seu nome é: {nome}\")"
   ]
  },
  {
   "cell_type": "code",
   "execution_count": 7,
   "id": "53c6a78d",
   "metadata": {},
   "outputs": [
    {
     "name": "stdout",
     "output_type": "stream",
     "text": [
      "sua idade é: 18\n"
     ]
    }
   ],
   "source": [
    "idade = input(\"qual sua idade\")\n",
    "print(f\"sua idade é: {idade}\")"
   ]
  },
  {
   "cell_type": "code",
   "execution_count": null,
   "id": "da06710d",
   "metadata": {},
   "outputs": [
    {
     "name": "stdout",
     "output_type": "stream",
     "text": [
      "seu nome é: Leonardo e sua idade é: 18\n"
     ]
    }
   ],
   "source": [
    "nome = input(\"qual seu nome??\")\n",
    "ano_atual = int(input(\"digite o ano atual\"))\n",
    "ano_nacimento = int(input(\"digite o ano do seu nacimento\")) \n",
    "idade = ano_atual - ano_nacimento\n",
    "print(f\"seu nome é: {nome} e sua idade é: {idade}\") \n",
    "\n",
    "# f = Formartar texto"
   ]
  },
  {
   "cell_type": "markdown",
   "id": "189cf511",
   "metadata": {},
   "source": [
    "### Calcula média"
   ]
  },
  {
   "cell_type": "code",
   "execution_count": 9,
   "id": "f3d786f2",
   "metadata": {},
   "outputs": [
    {
     "name": "stdout",
     "output_type": "stream",
     "text": [
      "A sua media é : 8.164285714285715\n"
     ]
    }
   ],
   "source": [
    "nota1=float(input(\"Digite a 1° sua nota!\"))\n",
    "nota2=float(input(\"Digite a 2° sua nota!\"))\n",
    "nota3=float(input(\"Digite a 3° sua nota!\"))\n",
    "nota4=float(input(\"Digite a 4° sua nota!\"))\n",
    "nota5=float(input(\"Digite a 5° sua nota!\"))\n",
    "nota6=float(input(\"Digite a 6° sua nota!\"))\n",
    "nota7=float(input(\"Digite a 7° sua nota!\"))\n",
    "nota8=float(input(\"Digite a 8° sua nota!\"))\n",
    "nota9=float(input(\"Digite a 9° sua nota!\"))\n",
    "nota10=float(input(\"Digite a 10° sua nota!\"))\n",
    "nota11=float(input(\"Digite a 11° sua nota!\"))\n",
    "nota12=float(input(\"Digite a 12° sua nota!\"))\n",
    "nota13=float(input(\"Digite a 13° sua nota!\"))\n",
    "nota14=float(input(\"Digite a 14° sua nota!\"))\n",
    "media=((nota1 + nota2 + nota3 + nota4 + nota5 + nota6 +nota7 + nota8 + nota9 + nota10 + nota11 + nota12 + nota13 + nota14) /14)\n",
    "print (f\"A sua media é : {media}\")"
   ]
  },
  {
   "cell_type": "markdown",
   "id": "70b65a28",
   "metadata": {},
   "source": [
    "### Quero te conheçer melhor"
   ]
  },
  {
   "cell_type": "code",
   "execution_count": 1,
   "id": "dbbf8f02",
   "metadata": {},
   "outputs": [
    {
     "name": "stdout",
     "output_type": "stream",
     "text": [
      "adorei te conhecer melhor! Seu nome é Leonardo, seu hobby é ler, e sua musica favorita é nota de voz 8\n"
     ]
    }
   ],
   "source": [
    "nome = input(\"qual seu nome??\")\n",
    "Hobby = input(\"qual seu hobby??\")\n",
    "Musica_fav = input(\"qual sua musica favorita??\")\n",
    "print (f\"adorei te conhecer melhor! Seu nome é {nome}, seu hobby é {Hobby}, e sua musica favorita é {Musica_fav}\")"
   ]
  },
  {
   "cell_type": "markdown",
   "id": "6245456f",
   "metadata": {},
   "source": [
    "### IF e ELSE"
   ]
  },
  {
   "cell_type": "code",
   "execution_count": null,
   "id": "f74e17ad",
   "metadata": {},
   "outputs": [
    {
     "name": "stdout",
     "output_type": "stream",
     "text": [
      "você foi reprovado!!\n"
     ]
    }
   ],
   "source": [
    "\n",
    "media = float (input(\"qual sua media?\"))\n",
    "if media >=5:\n",
    "    print (\"você foi aprovado!!\")\n",
    "else: \n",
    "    print (\"você foi reprovado!!\")"
   ]
  },
  {
   "cell_type": "markdown",
   "id": "0c6c6ebd",
   "metadata": {},
   "source": [
    "### Calcule a média de 3 notas"
   ]
  },
  {
   "cell_type": "code",
   "execution_count": null,
   "id": "cf14d6c9",
   "metadata": {},
   "outputs": [
    {
     "name": "stdout",
     "output_type": "stream",
     "text": [
      "você foi reprovado\n"
     ]
    }
   ],
   "source": [
    "nota1=float(input(\"Digite a 1° sua nota!\"))\n",
    "nota2=float(input(\"Digite a 2° sua nota!\"))\n",
    "nota3=float(input(\"Digite a 3° sua nota!\"))\n",
    "\n",
    "media = (nota1 + nota2 + nota3 /3)\n",
    "\n",
    "if media >=5:\n",
    "    print (\"você foi aprovado\")\n",
    "else:\n",
    "    print (\"você foi reprovado\")\n",
    "\n"
   ]
  },
  {
   "cell_type": "markdown",
   "id": "2e9859d1",
   "metadata": {},
   "source": [
    "### Contatinho"
   ]
  },
  {
   "cell_type": "code",
   "execution_count": null,
   "id": "d221496f",
   "metadata": {},
   "outputs": [
    {
     "name": "stdout",
     "output_type": "stream",
     "text": [
      "eitaa você por aqui\n"
     ]
    }
   ],
   "source": [
    "nome = input(\"fala seu nome bb\")\n",
    "telefone = input(\"passa seu zap bb\")\n",
    "crush = (\"fulaninho/a\")\n",
    "\n",
    "if nome == crush: \n",
    "    print (\"eitaa você por aqui\")\n",
    "else: \n",
    "    print (\"saí fora\")\n"
   ]
  },
  {
   "cell_type": "markdown",
   "id": "e5bf53f0",
   "metadata": {},
   "source": [
    "### Música favorita"
   ]
  },
  {
   "cell_type": "code",
   "execution_count": null,
   "id": "8d3362ce",
   "metadata": {},
   "outputs": [
    {
     "name": "stdout",
     "output_type": "stream",
     "text": [
      "muito bom gosto, parabéns :D\n"
     ]
    }
   ],
   "source": [
    "musica = input(\"qual sua musica favorita?\")\n",
    "musica_fav = (\"qualquer uma do jão\")\n",
    "\n",
    "if musica == musica_fav:\n",
    "    print (\"muito bom gosto, parabéns :D\")\n",
    "else:\n",
    "    print (\"que horror, meus ouvidos sangram\")"
   ]
  },
  {
   "cell_type": "markdown",
   "id": "74d95261",
   "metadata": {},
   "source": [
    "### CNH"
   ]
  },
  {
   "cell_type": "code",
   "execution_count": null,
   "id": "72da0871",
   "metadata": {},
   "outputs": [
    {
     "name": "stdout",
     "output_type": "stream",
     "text": [
      "aprovado! pode mandar um racha\n"
     ]
    }
   ],
   "source": [
    "idade = int(input(\"qual sua idade?\"))\n",
    "idade_minima = 18\n",
    "\n",
    "aprovamento_curso = input(\"você foi aprovado no curso?\")\n",
    "aprovado = \"sim\"\n",
    "\n",
    "if aprovamento_curso == aprovado and idade >= 18:\n",
    "    print (\"aprovado! pode mandar um racha\")\n",
    "else:\n",
    "    print (\"reprovado! pede um uber\")\n"
   ]
  },
  {
   "cell_type": "markdown",
   "id": "acb79e4e",
   "metadata": {},
   "source": [
    "### Fabrica de Programadores"
   ]
  },
  {
   "cell_type": "code",
   "execution_count": 11,
   "id": "dfcdb43b",
   "metadata": {},
   "outputs": [
    {
     "name": "stdout",
     "output_type": "stream",
     "text": [
      "bem vindo, partiu fazer programa\n"
     ]
    }
   ],
   "source": [
    "serie = (input(\"Qual sua série??\"))\n",
    "serie_minima = \"terceiro ano\"\n",
    "\n",
    "municipio = (input(\"Você estuda em uma escola do municipio de Santana de Parnaiba??\"))\n",
    "municipio_desejado = \"sim\"\n",
    "\n",
    "if municipio == municipio_desejado and serie == serie_minima:\n",
    "    print (\"bem vindo, partiu fazer programa\")\n",
    "else:\n",
    "    print (\"reprovado, não pode fazer o curso\")"
   ]
  },
  {
   "cell_type": "markdown",
   "id": "cd3bf1a1",
   "metadata": {},
   "source": [
    "### Melhor musica do mundo"
   ]
  },
  {
   "cell_type": "code",
   "execution_count": 18,
   "id": "40ca1b3f",
   "metadata": {},
   "outputs": [
    {
     "name": "stdout",
     "output_type": "stream",
     "text": [
      "parambéns seu gosto musical é extremamente refinado\n"
     ]
    }
   ],
   "source": [
    "melhor_musica = \"todas do jao\"\n",
    "melhor_cantor = \"jao\"\n",
    "\n",
    "musica_favorita = (input(\"qual sua musica favorita?\")).lower()\n",
    "cantor_fav = (input(\"qual seu artista musical favorito?\")).lower()\n",
    "\n",
    "if musica_favorita == melhor_musica and cantor_fav == melhor_cantor:\n",
    "    print (\"parambéns seu gosto musical é extremamente refinado\")\n",
    "else:\n",
    "    print (\"que nojo, quem escuta isso?\")\n"
   ]
  },
  {
   "cell_type": "markdown",
   "id": "1f9f094f",
   "metadata": {},
   "source": [
    "### Meu trabalho dos sonhos"
   ]
  },
  {
   "cell_type": "code",
   "execution_count": null,
   "id": "685a8024",
   "metadata": {},
   "outputs": [
    {
     "data": {
      "text/plain": [
       "2180"
      ]
     },
     "execution_count": 4,
     "metadata": {},
     "output_type": "execute_result"
    }
   ],
   "source": [
    "salario = 5000\n",
    "\n",
    "conta_luz = 400\n",
    "conta_agua = 120\n",
    "conta_net = 80\n",
    "mercado = 1500\n",
    "gas = 120 \n",
    "iptu = 100\n",
    "roupa = 500\n",
    "\n",
    "salario - conta_luz - conta_agua - conta_net - mercado - gas - iptu - roupa"
   ]
  },
  {
   "cell_type": "markdown",
   "id": "3ecc4aab",
   "metadata": {},
   "source": [
    "### Contatinho 2.0"
   ]
  },
  {
   "cell_type": "code",
   "execution_count": 2,
   "id": "6ba477d1",
   "metadata": {},
   "outputs": [
    {
     "name": "stdout",
     "output_type": "stream",
     "text": [
      "nâo esperava te ver por aqui\n"
     ]
    }
   ],
   "source": [
    "nome = input(\"fala seu nome bb\")\n",
    "telefone = input(\"passa seu zap bb\")\n",
    "crush = (\"fulaninho/a\")\n",
    "crush2 = (\"anonimo\")\n",
    "\n",
    "if nome == crush:\n",
    "    print (\"eai você por aqui né?\")\n",
    "elif nome == crush2:\n",
    "    print (\"nâo esperava te ver por aqui\")\n",
    "else:\n",
    "    print (\"caí fora\")"
   ]
  },
  {
   "cell_type": "markdown",
   "id": "7b6f1594",
   "metadata": {},
   "source": [
    "### medidor de temperatura "
   ]
  },
  {
   "cell_type": "code",
   "execution_count": 2,
   "id": "07270480",
   "metadata": {},
   "outputs": [
    {
     "name": "stdout",
     "output_type": "stream",
     "text": [
      "Está agradavel\n"
     ]
    }
   ],
   "source": [
    "temperatura_atual = int(input(\"qual a temperatura atual\"))\n",
    "\n",
    "calor = 32\n",
    "neutro = 21\n",
    "frio = 20\n",
    "\n",
    "\n",
    "if temperatura_atual >= calor:\n",
    "    print(\"calor de morrer\")\n",
    "\n",
    "elif temperatura_atual >= neutro and temperatura_atual < calor:\n",
    "    print(\"Está agradavel\")\n",
    "\n",
    "elif temperatura_atual <= frio:\n",
    "    print(\"Está frio\")\n",
    "\n",
    "else:\n",
    "    print(\"preciso de uma temperatura para te informar\")"
   ]
  },
  {
   "cell_type": "markdown",
   "id": "a6aac3e8",
   "metadata": {},
   "source": [
    "### Controle de estoque"
   ]
  },
  {
   "cell_type": "code",
   "execution_count": 34,
   "id": "d9d18d44",
   "metadata": {},
   "outputs": [
    {
     "name": "stdout",
     "output_type": "stream",
     "text": [
      "marca texto em excesso! não é necessario comprar mais\n"
     ]
    }
   ],
   "source": [
    "produto = input(\"qual o produto?\")\n",
    "produto_quantidade = int(input(\"qual a quantidade do produto??\"))\n",
    "\n",
    "if produto_quantidade == 0:\n",
    "    print(f\"{produto} está em falta, compre imediatamente\")\n",
    "elif produto_quantidade <= 10:\n",
    "    print(f\"{produto} está acabando, favor repor estoque\")\n",
    "elif produto_quantidade >= 30:\n",
    "    print(f\"{produto} em excesso! não é necessario comprar mais\")\n",
    "else:\n",
    "    print(f\"estoque de {produto} dentro do normal\")\n"
   ]
  },
  {
   "cell_type": "markdown",
   "id": "9d6687f8",
   "metadata": {},
   "source": [
    "### Calculadora basica "
   ]
  },
  {
   "cell_type": "code",
   "execution_count": 1,
   "id": "00e46a14",
   "metadata": {},
   "outputs": [
    {
     "name": "stdout",
     "output_type": "stream",
     "text": [
      " A conta 90.0 * 5.0 = 450.0\n"
     ]
    }
   ],
   "source": [
    "numero1 = float(input(\"digite um numero\"))\n",
    "numero2 = float(input(\"digite um numero\"))\n",
    "operacao = input(\"digite uma operação\")\n",
    "\n",
    "if operacao == \"somar\" or operacao == \"+\":\n",
    "    soma = numero1 + numero2\n",
    "    print(f\" A conta {numero1} + {numero2} = {soma}\")\n",
    "\n",
    "elif operacao == \"subtrair\" or operacao == \"-\":\n",
    "    subtracao = numero1 - numero2\n",
    "    print(f\" A conta {numero1} - {numero2} = {subtracao}\")\n",
    "\n",
    "elif operacao == \"dividir\" or operacao == \"/\":\n",
    "    divisao = numero1 / numero2\n",
    "    print(f\" A conta {numero1} / {numero2} = {divisao}\")\n",
    "\n",
    "elif operacao == \"multiplicar\" or operacao == \"*\":\n",
    "    multiplicacao = numero1 * numero2\n",
    "    print(f\" A conta {numero1} * {numero2} = {multiplicacao}\")\n",
    "\n",
    "else:\n",
    "    print(\"digite uma operação valida!!\")\n",
    "  "
   ]
  }
 ],
 "metadata": {
  "kernelspec": {
   "display_name": "Python 3",
   "language": "python",
   "name": "python3"
  },
  "language_info": {
   "codemirror_mode": {
    "name": "ipython",
    "version": 3
   },
   "file_extension": ".py",
   "mimetype": "text/x-python",
   "name": "python",
   "nbconvert_exporter": "python",
   "pygments_lexer": "ipython3",
   "version": "3.13.2"
  }
 },
 "nbformat": 4,
 "nbformat_minor": 5
}
