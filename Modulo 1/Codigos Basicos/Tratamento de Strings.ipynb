{
 "cells": [
  {
   "cell_type": "markdown",
   "id": "423a416a",
   "metadata": {},
   "source": [
    "### Tratamentos de Texto (string)\n",
    "\n",
    "Objetivo: Mostrar a importância de manipular textos em programação.\n",
    "\n",
    "\n",
    "\n",
    "\"Vocês já pensaram como os apps sabem seu nome quando você faz login? Ou como o Instagram mostra seu username em letras minúsculas? Tudo isso usa tratamento de strings!\"\n",
    "\n",
    "O que é uma String?\n",
    "\n",
    "Sequência de caracteres (letras, números, símbolos).\n",
    "\n",
    "Em Python, vem entre \"aspas\"."
   ]
  },
  {
   "cell_type": "markdown",
   "id": "5f38bab9",
   "metadata": {},
   "source": [
    "### 2 - Operações Básicas com strings (textos)\n",
    "\n",
    "a) Juntar textos ou em outras palavras concatenar"
   ]
  },
  {
   "cell_type": "code",
   "execution_count": 18,
   "id": "5cd6b8e7",
   "metadata": {},
   "outputs": [
    {
     "name": "stdout",
     "output_type": "stream",
     "text": [
      "Mateus Silva\n"
     ]
    }
   ],
   "source": [
    "nome = \"Mateus\"  \n",
    "sobrenome = \"Silva\"  \n",
    "nome_completo = nome + \" \" + sobrenome  \n",
    "print(nome_completo) "
   ]
  },
  {
   "cell_type": "code",
   "execution_count": 19,
   "id": "a03ea409",
   "metadata": {},
   "outputs": [
    {
     "name": "stdout",
     "output_type": "stream",
     "text": [
      "Leonardo Silva\n"
     ]
    }
   ],
   "source": [
    "nome = \"Leonardo\"\n",
    "sobreme = \"Feitosa\"\n",
    "nome_completo = nome + \" \" + sobrenome\n",
    "print(nome_completo)"
   ]
  },
  {
   "cell_type": "markdown",
   "id": "f2fddf3a",
   "metadata": {},
   "source": [
    "b) Tamanho da String\n"
   ]
  },
  {
   "cell_type": "code",
   "execution_count": 31,
   "id": "1a01fe4d",
   "metadata": {},
   "outputs": [
    {
     "name": "stdout",
     "output_type": "stream",
     "text": [
      "8\n"
     ]
    }
   ],
   "source": [
    "tamanho = len(nome)\n",
    "nome = \"leonardo\"\n",
    "print(tamanho)"
   ]
  },
  {
   "cell_type": "code",
   "execution_count": 46,
   "id": "f65041b8",
   "metadata": {},
   "outputs": [
    {
     "name": "stdout",
     "output_type": "stream",
     "text": [
      "tá na médiaa\n"
     ]
    }
   ],
   "source": [
    "#qual o tamanhanho??\n",
    "\n",
    "nome = input(\"Qual seu nome?\")\n",
    "tamanho = len(nome)\n",
    "\n",
    "if tamanho >= 6:\n",
    "    print(\"que nome grande\")\n",
    "elif tamanho == 5:\n",
    "    print(\"tá na médiaa\")\n",
    "else:\n",
    "    print(\"que nome pequeno\")"
   ]
  },
  {
   "cell_type": "markdown",
   "id": "6222c7c4",
   "metadata": {},
   "source": [
    "c) Acessar Letras (Índices)"
   ]
  },
  {
   "cell_type": "code",
   "execution_count": 20,
   "id": "21af5f71",
   "metadata": {},
   "outputs": [
    {
     "name": "stdout",
     "output_type": "stream",
     "text": [
      "O\n",
      "a\n"
     ]
    }
   ],
   "source": [
    "frase = \"Olá meus garotos(a) de Programa\"  \n",
    "print(frase[0])   # 'O' (primeira letra)  \n",
    "print(frase[-1])  # 'a' (última letra)"
   ]
  },
  {
   "cell_type": "code",
   "execution_count": 49,
   "id": "da011f9e",
   "metadata": {},
   "outputs": [
    {
     "name": "stdout",
     "output_type": "stream",
     "text": [
      "l\n",
      "a\n"
     ]
    }
   ],
   "source": [
    "meu_nome = \"leonardo feitosa da silva\"\n",
    "\n",
    "print(meu_nome[0]) \n",
    "print(meu_nome[-1])"
   ]
  },
  {
   "cell_type": "markdown",
   "id": "05b42fdb",
   "metadata": {},
   "source": [
    "d) Fatiamento (Slicing)"
   ]
  },
  {
   "cell_type": "code",
   "execution_count": 52,
   "id": "50f44874",
   "metadata": {},
   "outputs": [
    {
     "name": "stdout",
     "output_type": "stream",
     "text": [
      "mateus\n",
      "@gmail.com\n"
     ]
    }
   ],
   "source": [
    "email = \"mateus@gmail.com\"  \n",
    "print(email[:6])    # \"mateus\" (do início até o índice 6)  \n",
    "print(email[6:17])  # \"gmail\" (do índice 8 ao 12)"
   ]
  },
  {
   "cell_type": "code",
   "execution_count": 56,
   "id": "d3b0ae90",
   "metadata": {},
   "outputs": [
    {
     "name": "stdout",
     "output_type": "stream",
     "text": [
      "leogatao\n",
      "@gmail.com\n"
     ]
    }
   ],
   "source": [
    "email = \"leogatao@gmail.com\"\n",
    "print(email[:8])\n",
    "print(email[8:18])\n"
   ]
  },
  {
   "cell_type": "markdown",
   "id": "6f09cf29",
   "metadata": {},
   "source": [
    "### 3. Métodos Úteis"
   ]
  },
  {
   "cell_type": "markdown",
   "id": "0f891d89",
   "metadata": {},
   "source": [
    "a) Conversão de minúsculas para maiúsculas "
   ]
  },
  {
   "cell_type": "code",
   "execution_count": 57,
   "id": "87258ddf",
   "metadata": {},
   "outputs": [
    {
     "name": "stdout",
     "output_type": "stream",
     "text": [
      "python é demais!\n",
      "PYTHON É DEMAIS!\n"
     ]
    }
   ],
   "source": [
    "texto = \"Python é Demais!\"  \n",
    "print(texto.lower())   # \"python é demais!\"  \n",
    "print(texto.upper())   # \"PYTHON É DEMAIS!\""
   ]
  },
  {
   "cell_type": "code",
   "execution_count": 60,
   "id": "bf75b479",
   "metadata": {},
   "outputs": [
    {
     "name": "stdout",
     "output_type": "stream",
     "text": [
      "estou morrendo de fome aaaaaaa\n",
      "ESTOU MORRENDO DE FOME AAAAAAA\n"
     ]
    }
   ],
   "source": [
    "texto = \"ESTou MoRRenDO de FomE aaaAaAa\"\n",
    "\n",
    "print(texto.lower())\n",
    "print(texto.upper())"
   ]
  },
  {
   "cell_type": "markdown",
   "id": "926010d9",
   "metadata": {},
   "source": [
    "b) Substituição"
   ]
  },
  {
   "cell_type": "code",
   "execution_count": 61,
   "id": "d17e64d6",
   "metadata": {},
   "outputs": [
    {
     "name": "stdout",
     "output_type": "stream",
     "text": [
      "Eu adoro segunda-feira\n"
     ]
    }
   ],
   "source": [
    "mensagem = \"Eu odeio segunda-feira\"  \n",
    "print(mensagem.replace(\"odeio\", \"adoro\"))  # \"Eu adoro segunda-feira\""
   ]
  },
  {
   "cell_type": "code",
   "execution_count": 11,
   "id": "29a44197",
   "metadata": {},
   "outputs": [
    {
     "name": "stdout",
     "output_type": "stream",
     "text": [
      "Eu amo elif\n"
     ]
    }
   ],
   "source": [
    "mensagem = \"Eu odeio elif\"\n",
    "print(mensagem.replace(\"odeio\", \"amo\"))"
   ]
  },
  {
   "cell_type": "code",
   "execution_count": null,
   "id": "cacbd9e7",
   "metadata": {},
   "outputs": [
    {
     "name": "stdout",
     "output_type": "stream",
     "text": [
      "A frase eu escolho a frase, caí fora\n"
     ]
    }
   ],
   "source": [
    "frase = input(\"digite uma frase\")\n",
    "print(frase.replace(frase, \"A frase eu escolho a frase, caí fora\"))"
   ]
  },
  {
   "cell_type": "markdown",
   "id": "bf5e453f",
   "metadata": {},
   "source": [
    "c) Divisão de Strings"
   ]
  },
  {
   "cell_type": "code",
   "execution_count": 65,
   "id": "164d4642",
   "metadata": {},
   "outputs": [
    {
     "name": "stdout",
     "output_type": "stream",
     "text": [
      "['python', 'programação', 'jovens']\n"
     ]
    }
   ],
   "source": [
    "hashtags = \"python#programação#jovens\"  \n",
    "print(hashtags.split(\"#\"))  # [\"python\", \"programação\", \"jovens\"]"
   ]
  },
  {
   "cell_type": "code",
   "execution_count": 66,
   "id": "3ea99765",
   "metadata": {},
   "outputs": [
    {
     "name": "stdout",
     "output_type": "stream",
     "text": [
      "['oprofessor', 'de', 'python', 'é', 'o', 'melhor']\n"
     ]
    }
   ],
   "source": [
    "ache_a_frase = \"oprofessor1de1python1é1o1melhor\"\n",
    "print(ache_a_frase.split(\"1\"))"
   ]
  },
  {
   "cell_type": "markdown",
   "id": "76a1722a",
   "metadata": {},
   "source": [
    "d) Remoção de Espaços"
   ]
  },
  {
   "cell_type": "code",
   "execution_count": 67,
   "id": "84eb0e89",
   "metadata": {},
   "outputs": [
    {
     "name": "stdout",
     "output_type": "stream",
     "text": [
      "olá\n"
     ]
    }
   ],
   "source": [
    "user_input = \"   olá   \"  \n",
    "print(user_input.strip())  # \"olá\" (remove espaços extras)"
   ]
  },
  {
   "cell_type": "code",
   "execution_count": 69,
   "id": "6c279dc5",
   "metadata": {},
   "outputs": [
    {
     "name": "stdout",
     "output_type": "stream",
     "text": [
      "leonardo\n"
     ]
    }
   ],
   "source": [
    "meu_nome = \"              leonardo              \"\n",
    "print(meu_nome.strip())"
   ]
  },
  {
   "cell_type": "markdown",
   "id": "f2ab3244",
   "metadata": {},
   "source": [
    "### 4 - Primeiro Desafio: Criar um \"Gerador de Username\" que:\n",
    "\n",
    "Pede o nome completo do usuário;\n",
    "\n",
    "Gera um username no formato nome.sobrenome (minúsculas, sem espaços)."
   ]
  },
  {
   "cell_type": "code",
   "execution_count": 9,
   "id": "f43a2dfe",
   "metadata": {},
   "outputs": [
    {
     "name": "stdout",
     "output_type": "stream",
     "text": [
      "leonardo.feitosa\n"
     ]
    }
   ],
   "source": [
    "#metódo anny de resolver \n",
    "\n",
    "nome_completo = input(\"qual seu nome? digite apenas primeiro e ultimo nome\").lower()\n",
    "\n",
    "print (nome_completo .replace(\" \",\".\"))\n"
   ]
  },
  {
   "cell_type": "code",
   "execution_count": 12,
   "id": "d0f7b678",
   "metadata": {},
   "outputs": [
    {
     "ename": "TypeError",
     "evalue": "can only concatenate str (not \"builtin_function_or_method\") to str",
     "output_type": "error",
     "traceback": [
      "\u001b[31m---------------------------------------------------------------------------\u001b[39m",
      "\u001b[31mTypeError\u001b[39m                                 Traceback (most recent call last)",
      "\u001b[36mCell\u001b[39m\u001b[36m \u001b[39m\u001b[32mIn[12]\u001b[39m\u001b[32m, line 6\u001b[39m\n\u001b[32m      3\u001b[39m nome = \u001b[38;5;28minput\u001b[39m(\u001b[33m\"\u001b[39m\u001b[33mdigite seu nome\u001b[39m\u001b[33m\"\u001b[39m) .strip().lower()\n\u001b[32m      4\u001b[39m sobrenome = \u001b[38;5;28minput\u001b[39m(\u001b[33m\"\u001b[39m\u001b[33mdigite seu sobrenome\u001b[39m\u001b[33m\"\u001b[39m) .strip().lower\n\u001b[32m----> \u001b[39m\u001b[32m6\u001b[39m usuario = \u001b[43mnome\u001b[49m\u001b[43m \u001b[49m\u001b[43m+\u001b[49m\u001b[43m \u001b[49m\u001b[33;43m\"\u001b[39;49m\u001b[33;43m.\u001b[39;49m\u001b[33;43m\"\u001b[39;49m\u001b[43m \u001b[49m\u001b[43m+\u001b[49m\u001b[43m \u001b[49m\u001b[43msobrenome\u001b[49m\n\u001b[32m      8\u001b[39m \u001b[38;5;28mprint\u001b[39m(\u001b[33mf\u001b[39m\u001b[33m\"\u001b[39m\u001b[33mseu usuario é \u001b[39m\u001b[38;5;132;01m{\u001b[39;00musuario\u001b[38;5;132;01m}\u001b[39;00m\u001b[33m\"\u001b[39m)\n",
      "\u001b[31mTypeError\u001b[39m: can only concatenate str (not \"builtin_function_or_method\") to str"
     ]
    }
   ],
   "source": [
    "#metódo hellen de resolver\n",
    "\n",
    "nome = input(\"digite seu nome\") .strip().lower()\n",
    "sobrenome = input(\"digite seu sobrenome\") .strip().lower\n",
    "\n",
    "usuario = nome + \".\" + sobrenome\n",
    "\n",
    "print(f\"seu usuario é {usuario}\")"
   ]
  },
  {
   "cell_type": "code",
   "execution_count": null,
   "id": "707abb11",
   "metadata": {},
   "outputs": [
    {
     "name": "stdout",
     "output_type": "stream",
     "text": [
      "leonardo feitosa da silva\n",
      "['Leonardo', 'feitosa', 'da', 'silva']\n",
      "Leonardo\n",
      "silva\n",
      "Leonardo.silva\n"
     ]
    }
   ],
   "source": [
    "#pede o nome completo ao usuario\n",
    "nome_completo = input(\"qual seu nome? digite apenas primeiro e ultimo nome\")\n",
    "\n",
    "#tira os espaços antes e depois\n",
    "nome_sem_espacos = nome_completo.strip()\n",
    "\n",
    "#joga o nome pra minusculo\n",
    "nome_minusculo = nome_sem_espacos.lower()\n",
    "print(nome_minusculo)\n",
    "\n",
    "#quebra o nome\n",
    "quebrar_nome = nome_sem_espacos.split(\" \")\n",
    "print(quebrar_nome)\n",
    "\n",
    "#pega o primeiro nome\n",
    "primeiro_nome = quebrar_nome[0]\n",
    "print(primeiro_nome)\n",
    "\n",
    "#pega o ultimo ano\n",
    "ultimo_nome = quebrar_nome[-1]\n",
    "print(ultimo_nome)\n",
    "\n",
    "#cria o usuario \n",
    "usuario = primeiro_nome + \".\" + ultimo_nome\n",
    "print(usuario)"
   ]
  },
  {
   "cell_type": "markdown",
   "id": "25399d2d",
   "metadata": {},
   "source": [
    "### Segundo Desafio"
   ]
  },
  {
   "cell_type": "markdown",
   "id": "e790bc58",
   "metadata": {},
   "source": [
    "Verificar se uma senha tem pelo menos 8 caracteres:"
   ]
  },
  {
   "cell_type": "code",
   "execution_count": 8,
   "id": "2d9ff656",
   "metadata": {},
   "outputs": [
    {
     "name": "stdout",
     "output_type": "stream",
     "text": [
      "senha perfeita\n"
     ]
    }
   ],
   "source": [
    "senha = input(\"Digite sua senha\")\n",
    "tamanho = len(senha)\n",
    "\n",
    "if tamanho < 8:\n",
    "    print(\"senha muito pequena\")\n",
    "else:\n",
    "    print(\"senha perfeita\")\n"
   ]
  },
  {
   "cell_type": "markdown",
   "id": "a58aa74f",
   "metadata": {},
   "source": [
    "### 5. Exercício Final (Para Casa)\n",
    "\n",
    "Crie um \"Tradutor de Internetês\":\n",
    "\n",
    "Substitui palavras por abreviações (ex: \"você\" → \"vc\", \"tamo junto\" → \"tmj\").\n",
    "\n",
    "Dica: Use .replace() múltiplas vezes!"
   ]
  },
  {
   "cell_type": "code",
   "execution_count": null,
   "id": "abf41fae",
   "metadata": {},
   "outputs": [
    {
     "name": "stdout",
     "output_type": "stream",
     "text": [
      "mt obg, vc\n"
     ]
    }
   ],
   "source": [
    "frase = input(\"digite uma frase para ser traduzida para internetês\")\n",
    "\n",
    "frase_ajustada = (frase.replace(\"muito\",\"mt\").replace(\"obrigado\",\"obg\").replace(\"você\",\"vc\").replace(\"beleza\",\"blz\").replace(\"nossa\",\"nss\"))\n",
    "\n",
    "print(frase_ajustada)\n"
   ]
  },
  {
   "cell_type": "markdown",
   "id": "babd7a7c",
   "metadata": {},
   "source": [
    "### 6. Conclusão\n",
    "Recapitulação:\n",
    "\n",
    "Strings são textos delimitados por aspas.\n",
    "\n",
    "Podemos acessar letras, fatiar, converter, dividir e muito mais!\n",
    "\n",
    "Próxima Aula:\n",
    "\n",
    "Trabalhar com listas e loops em strings (ex: contar vogais).\n",
    "\n",
    "Feedback:\n",
    "\n",
    "\"O que vocês acharam mais útil? Alguma dúvida para tirar?\""
   ]
  }
 ],
 "metadata": {
  "kernelspec": {
   "display_name": "Python 3",
   "language": "python",
   "name": "python3"
  },
  "language_info": {
   "codemirror_mode": {
    "name": "ipython",
    "version": 3
   },
   "file_extension": ".py",
   "mimetype": "text/x-python",
   "name": "python",
   "nbconvert_exporter": "python",
   "pygments_lexer": "ipython3",
   "version": "3.13.2"
  }
 },
 "nbformat": 4,
 "nbformat_minor": 5
}
