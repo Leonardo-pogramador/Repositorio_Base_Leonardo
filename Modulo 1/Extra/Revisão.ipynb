{
 "cells": [
  {
   "cell_type": "markdown",
   "id": "9263dbf7",
   "metadata": {},
   "source": [
    "### Idade\n"
   ]
  },
  {
   "cell_type": "code",
   "execution_count": 14,
   "id": "6c902f8b",
   "metadata": {},
   "outputs": [
    {
     "name": "stdout",
     "output_type": "stream",
     "text": [
      "sua idade é 19 você é um adulto\n"
     ]
    }
   ],
   "source": [
    "idade = int(input(\"Qual a sua idade?\"))\n",
    "\n",
    "if idade >= 60:\n",
    "    print(f\"sua idade é {idade} você é idoso\")\n",
    "\n",
    "elif idade == 18:\n",
    "    print(f\"sua idade é {idade} você é um Maior de idade\")\n",
    "\n",
    "elif idade < 60 and idade > 18:\n",
    "    print(f\"sua idade é {idade} você é um adulto\")\n",
    "\n",
    "elif idade < 18:\n",
    "    print(\"menos de idade\")\n",
    "\n"
   ]
  },
  {
   "cell_type": "markdown",
   "id": "3af78e2f",
   "metadata": {},
   "source": [
    "### Calcula média"
   ]
  },
  {
   "cell_type": "code",
   "execution_count": null,
   "id": "810f033c",
   "metadata": {},
   "outputs": [
    {
     "name": "stdout",
     "output_type": "stream",
     "text": [
      "Sua média é 9.333333333333334, você está aprovado!\n"
     ]
    }
   ],
   "source": [
    "nota1 = float(input(\"Digite sua primeira nota\"))\n",
    "nota2 = float(input(\"Digite sua segunda nota\"))\n",
    "nota3 = float(input(\"Digite sua terceira nota\"))\n",
    "\n",
    "media = (nota1 + nota2 + nota3 ) /3\n",
    "\n",
    "if media >= 4 and media <= 5:\n",
    "    print(f\"Sua média é {media}, você está de recuperação!\")\n",
    "\n",
    "elif media < 4:\n",
    "    print(f\"Sua média é {media}, você está de reprovado!\")\n",
    "\n",
    "elif media > 5:\n",
    "    print(f\"Sua média é {media}, você está aprovado!\")"
   ]
  },
  {
   "cell_type": "markdown",
   "id": "6fb256cd",
   "metadata": {},
   "source": [
    "### Calculadora\n"
   ]
  },
  {
   "cell_type": "code",
   "execution_count": 26,
   "id": "cc6fb452",
   "metadata": {},
   "outputs": [
    {
     "name": "stdout",
     "output_type": "stream",
     "text": [
      "5\n"
     ]
    }
   ],
   "source": [
    "numero1 = int(input(\"digite um numero\"))\n",
    "numero2 = int(input(\"digite um segundo numero\"))\n",
    "\n",
    "calculo = input(\"digite um calculo para ser realizado\")\n",
    "\n",
    "somar = (numero1 + numero2)\n",
    "subtrair = (numero1 - numero2)\n",
    "dividir = (numero1 / numero2)\n",
    "multiplicar = (numero1 * numero2)\n",
    "\n",
    "if calculo == \"somar\" or calculo == \"+\":\n",
    "    print(f\"{somar}\")\n",
    "\n",
    "elif calculo == \"subtrair\" or calculo == \"-\":\n",
    "    print(f\"{subtrair}\")\n",
    "\n",
    "elif calculo == \"dividir\" or calculo == \"/\":\n",
    "    print(f\"{dividir}\")\n",
    "\n",
    "elif calculo == \"multiplicar\" or calculo == \"*\":\n",
    "    print(f\"{multiplicar}\")"
   ]
  }
 ],
 "metadata": {
  "kernelspec": {
   "display_name": "Python 3",
   "language": "python",
   "name": "python3"
  },
  "language_info": {
   "codemirror_mode": {
    "name": "ipython",
    "version": 3
   },
   "file_extension": ".py",
   "mimetype": "text/x-python",
   "name": "python",
   "nbconvert_exporter": "python",
   "pygments_lexer": "ipython3",
   "version": "3.13.2"
  }
 },
 "nbformat": 4,
 "nbformat_minor": 5
}
