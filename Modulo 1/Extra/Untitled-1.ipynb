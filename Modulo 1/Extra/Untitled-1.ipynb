{
 "cells": [
  {
   "cell_type": "markdown",
   "id": "f4aedb9b",
   "metadata": {},
   "source": [
    "### playlist"
   ]
  },
  {
   "cell_type": "code",
   "execution_count": 1,
   "id": "614078b1",
   "metadata": {},
   "outputs": [
    {
     "name": "stdout",
     "output_type": "stream",
     "text": [
      "a sua playlist é ['o triste é que eu te amo', 'idiota', 'amor pirata']\n"
     ]
    }
   ],
   "source": [
    "playlist = []\n",
    "\n",
    "for musica in range(3):\n",
    "    musica = input(\"Digite uma música\")\n",
    "    playlist.append(musica)\n",
    "\n",
    "print(f\"a sua playlist é {playlist}\")"
   ]
  },
  {
   "cell_type": "markdown",
   "id": "c587f88c",
   "metadata": {},
   "source": [
    "### Revisão: calcula média"
   ]
  },
  {
   "cell_type": "code",
   "execution_count": null,
   "id": "5eff6d7c",
   "metadata": {},
   "outputs": [],
   "source": [
    "nota1 = float(input(\"digite sua nota\"))\n",
    "nota2 = float(input(\"digite sua segunda nota\"))\n",
    "nota3 = float(input(\"digite sua terceira nota\"))\n",
    "\n",
    "media = (nota1 + nota2 + nota3 /3)\n",
    "\n",
    "if media >= 5:\n",
    "    print (f\"sua nota é {media} aprovado\")\n",
    "elif media == 3:\n",
    "    print (f\"sua nota é {media} recuperação\")\n",
    "else:\n",
    "    print (f\"sua nota é {media} reprovado\")"
   ]
  }
 ],
 "metadata": {
  "kernelspec": {
   "display_name": "Python 3",
   "language": "python",
   "name": "python3"
  },
  "language_info": {
   "codemirror_mode": {
    "name": "ipython",
    "version": 3
   },
   "file_extension": ".py",
   "mimetype": "text/x-python",
   "name": "python",
   "nbconvert_exporter": "python",
   "pygments_lexer": "ipython3",
   "version": "3.13.2"
  }
 },
 "nbformat": 4,
 "nbformat_minor": 5
}
