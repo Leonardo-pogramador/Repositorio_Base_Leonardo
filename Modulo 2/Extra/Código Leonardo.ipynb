{
 "cells": [
  {
   "cell_type": "code",
   "execution_count": 31,
   "metadata": {},
   "outputs": [
    {
     "name": "stdout",
     "output_type": "stream",
     "text": [
      "2.8666666666666667\n"
     ]
    }
   ],
   "source": [
    "nota1=float(3.2)\n",
    "nota2=float(3.3)\n",
    "nota3=float(2.1)\n",
    "media= ((nota1 + nota2 + nota3) /3)\n",
    "print (media)"
   ]
  },
  {
   "cell_type": "code",
   "execution_count": 34,
   "metadata": {},
   "outputs": [
    {
     "name": "stdout",
     "output_type": "stream",
     "text": [
      "A sua media é : 10.0\n"
     ]
    }
   ],
   "source": [
    "nota1=float(input(\"Digite a sua nota!\"))\n",
    "nota2=float(input(\"Digite a sua segunda nota!\"))\n",
    "nota3=float(input(\"Digite a sua terceira nota!\"))\n",
    "media= ((nota1 + nota2 + nota3) /3)\n",
    "print (f\"A sua media é : {media}\")"
   ]
  },
  {
   "cell_type": "code",
   "execution_count": 3,
   "metadata": {},
   "outputs": [
    {
     "name": "stdout",
     "output_type": "stream",
     "text": [
      "22.0\n"
     ]
    }
   ],
   "source": [
    "número = float(input(\"informe um número\"))\n",
    "print(número)"
   ]
  },
  {
   "cell_type": "code",
   "execution_count": 1,
   "metadata": {},
   "outputs": [
    {
     "name": "stdout",
     "output_type": "stream",
     "text": [
      "jogo: adivinho seu número!!!\n",
      "\n",
      "---------------------------\n",
      "\n",
      "seu número é.... 55.0\n"
     ]
    }
   ],
   "source": [
    "print(\"jogo: adivinho seu número!!!\")\n",
    "print(\"\")\n",
    "print(\"---------------------------\")\n",
    "print(\"\")\n",
    "numero = float(input(\"Qual seu número?\"))\n",
    "print(f\"seu número é.... {numero}\")\t"
   ]
  },
  {
   "cell_type": "code",
   "execution_count": null,
   "metadata": {},
   "outputs": [],
   "source": []
  }
 ],
 "metadata": {
  "kernelspec": {
   "display_name": "Python 3",
   "language": "python",
   "name": "python3"
  },
  "language_info": {
   "codemirror_mode": {
    "name": "ipython",
    "version": 3
   },
   "file_extension": ".py",
   "mimetype": "text/x-python",
   "name": "python",
   "nbconvert_exporter": "python",
   "pygments_lexer": "ipython3",
   "version": "3.13.2"
  }
 },
 "nbformat": 4,
 "nbformat_minor": 2
}
