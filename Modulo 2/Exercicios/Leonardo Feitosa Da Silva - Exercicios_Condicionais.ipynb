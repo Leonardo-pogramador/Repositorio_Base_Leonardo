{
 "cells": [
  {
   "cell_type": "markdown",
   "id": "633160a3",
   "metadata": {},
   "source": [
    "### 📝Lista de Exercícios: Condicionais IF/ELSE"
   ]
  },
  {
   "cell_type": "markdown",
   "id": "605d2a7e",
   "metadata": {},
   "source": [
    "Exercício 1 - Maioridade 🔞\n",
    "\n",
    "Crie um programa que pergunta a idade do usuário e diz se ele é maior ou menor de idade."
   ]
  },
  {
   "cell_type": "code",
   "execution_count": 1,
   "id": "93ea230f",
   "metadata": {},
   "outputs": [
    {
     "name": "stdout",
     "output_type": "stream",
     "text": [
      "Você é maior de idade. já pode beber e ser preso!\n"
     ]
    }
   ],
   "source": [
    "idade = int(input(\"Quantos anos você tem? \"))\n",
    "\n",
    "# Complete o código aqui\n",
    "\n",
    "if idade >= 18:\n",
    "    print(\"Você é maior de idade. já pode beber e ser preso!\")\n",
    "elif idade <= 17:\n",
    "    print(\"Você é menor de idade. quieta o facho e vai estudar!\")\n"
   ]
  },
  {
   "cell_type": "markdown",
   "id": "6e9528f5",
   "metadata": {},
   "source": [
    "Exercício 2 - Aprovação na Prova 🧠\n",
    "\n",
    "Faça um programa que pergunte a nota de um aluno (0 a 10) e diz se ele foi aprovado(nota >= 5) ou reprovado (nota <5)."
   ]
  },
  {
   "cell_type": "code",
   "execution_count": 3,
   "id": "4a9f8f8b",
   "metadata": {},
   "outputs": [
    {
     "name": "stdout",
     "output_type": "stream",
     "text": [
      "Sua nota é 4.0. Você foi reprovado\n"
     ]
    }
   ],
   "source": [
    "nota = float(input(\"Informe a sua nota de (0 a 10)\"))\n",
    "\n",
    "if nota >= 5:\n",
    "    print(f\"Sua nota é {nota}. Você foi aprovado\")\n",
    "\n",
    "elif nota < 5:\n",
    "    print(f\"Sua nota é {nota}. Você foi reprovado\")\n",
    "\n",
    "# Complete o código aqui"
   ]
  },
  {
   "cell_type": "markdown",
   "id": "9f8e9b92",
   "metadata": {},
   "source": [
    "Exercicio 3 - CNH 🚘🚙\n",
    "\n",
    " 1º - Peça ao usuário que digite a idade dele.\n",
    "\n",
    " 2º - Peça pra ele dizer se foi aprovado ou reprovado no curso de cnh.\n",
    "\n",
    " 3º - Use if e else para verificar se ele tem 18 anos ou mais e se foi aprovado.\n",
    "\n",
    " 4º - Se as condições do passo 3 estiverem certas, print(\"pode dirigir\").\n",
    " \n",
    " 5º - Se não print(\"vai andar a pé\")"
   ]
  },
  {
   "cell_type": "code",
   "execution_count": 5,
   "id": "bee9f043",
   "metadata": {},
   "outputs": [
    {
     "name": "stdout",
     "output_type": "stream",
     "text": [
      "Sua idade é 15 e foi reprovado na cnh. Vai andar de a pé\n"
     ]
    }
   ],
   "source": [
    "### Seu código aqui\n",
    "\n",
    "idade = int(input(\"Quantos anos você tem? \"))\n",
    "conprovante_cnh = input(\"Você foi aprovado na cnh (sim/não)\")\n",
    "\n",
    "if idade >= 18 and conprovante_cnh == \"sim\":\n",
    "    print(f\"Sua idade é {idade} e foi aprovado na cnh. Pode dirigir\")\n",
    "\n",
    "elif idade < 17 and conprovante_cnh == \"não\":\n",
    "    print(f\"Sua idade é {idade} e foi reprovado na cnh. Vai andar de a pé\")"
   ]
  },
  {
   "cell_type": "markdown",
   "id": "e9c60d12",
   "metadata": {},
   "source": [
    "Exercício 4 - Calculadora de Desconto. 💵 🤑\n",
    "\n",
    "Uma loja dá 10% de desconto para compras acima de R$ 100,00. Faça um programa que:\n",
    "\n",
    "1º - Pergunta o valor da compra.\n",
    "\n",
    "2º - Calcula o valor final com desconto (se aplicável).\n",
    "\n",
    "3º - Mostra o valor a pagar."
   ]
  },
  {
   "cell_type": "code",
   "execution_count": 2,
   "id": "5edc8855",
   "metadata": {},
   "outputs": [
    {
     "name": "stdout",
     "output_type": "stream",
     "text": [
      "A sua compra deu 99.0\n"
     ]
    }
   ],
   "source": [
    "### Seu código aqui\n",
    "\n",
    "valor = float(input(\"Qual o valor da compra?\"))\n",
    "\n",
    "if valor > 100:\n",
    "    desconto = valor * 0.10\n",
    "    total = valor - desconto\n",
    "    print(f\"Você recebeu um desconto de 10%. Sua compra deu {total}\")\n",
    "else:\n",
    "    print(f\"A sua compra deu {valor}\")\n"
   ]
  },
  {
   "cell_type": "markdown",
   "id": "ec96b43c",
   "metadata": {},
   "source": [
    "Exercício 5 - Classificação de Notas 🧑‍🎓\n",
    "\n",
    "Pergunte a nota de um aluno e dependendo da nota que ele informar, o classifique de acordo com as regras abaixo:\n",
    "\n",
    "Classifique a nota do aluno:\n",
    "\n",
    "- 9 até 10: \"Excelente\"\n",
    "\n",
    "- 7 até 8.9: \"Bom\"\n",
    "\n",
    "- 5 até 6.9: \"Regular\"\n",
    "\n",
    "- 0 até 4.9: \"Reprovado\"\n",
    "\n",
    "mostre para o aluno a classificação dele através de um print, exemplo print(\"Excelente\")."
   ]
  },
  {
   "cell_type": "code",
   "execution_count": 4,
   "id": "465c6812",
   "metadata": {},
   "outputs": [
    {
     "name": "stdout",
     "output_type": "stream",
     "text": [
      "Sua nota é regular\n"
     ]
    }
   ],
   "source": [
    "nota = float(input(\"Qual a sua nota ? :\"))\n",
    "\n",
    "if nota >= 9 and nota <= 10:\n",
    "    print(f\"Sua nota é excelente\")\n",
    "\n",
    "elif nota >= 7 and nota <= 8.9:\n",
    "    print(f\"Sua nota é boa\")\n",
    "\n",
    "elif nota >= 5 and nota <= 6.9:\n",
    "    print(f\"Sua nota é regular\")\n",
    "\n",
    "else:\n",
    "    print(f\"Você foi reprovado\")"
   ]
  },
  {
   "cell_type": "markdown",
   "id": "251b0fa7",
   "metadata": {},
   "source": [
    "Exercício 6 - Acesso ao Sistema 🔑\n",
    "\n",
    "Crie um login simples:\n",
    "\n",
    "- usuario_correto = \"admin\"\n",
    "\n",
    "- senha_correta = \"1234\"\n",
    "\n",
    "**Peça para o usuário digitar primeiro o login e depois a senha, caso login e senha estejam corretos programa deve mostrar \"Acesso permitido\" se não \"Acesso negado\"**\n"
   ]
  },
  {
   "cell_type": "code",
   "execution_count": 7,
   "id": "7fcf16db",
   "metadata": {},
   "outputs": [
    {
     "name": "stdout",
     "output_type": "stream",
     "text": [
      "Acessso permitido\n"
     ]
    }
   ],
   "source": [
    "usuario_correto = \"admin\"\n",
    "senha_correta = 1234\n",
    "\n",
    "usuario = input(\"Digite o usuário\")\n",
    "senha = input(\"Digite sua senha\")\n",
    "\n",
    "if usuario == \"admin\" and senha == \"1234\":\n",
    "    print(\"Acessso permitido\")\n",
    "else:\n",
    "    print(\"Acesso negado\")"
   ]
  },
  {
   "cell_type": "markdown",
   "id": "46c27406",
   "metadata": {},
   "source": [
    "Exercício 7 - Maior Número 📉\n",
    "\n",
    "Peça 3 números e mostre qual é o maior deles."
   ]
  },
  {
   "cell_type": "code",
   "execution_count": 14,
   "id": "916439ff",
   "metadata": {},
   "outputs": [
    {
     "name": "stdout",
     "output_type": "stream",
     "text": [
      "O maior número é 8.0\n"
     ]
    }
   ],
   "source": [
    "numero1 = float(input(\"digite seu primeiro número: \"))\n",
    "numero2 = float(input(\"digite seu primeiro número: \"))\n",
    "numero3 = float(input(\"digite seu primeiro número: \"))\n",
    "\n",
    "maior = max(numero1, numero2, numero3)\n",
    "\n",
    "print(f\"O maior número é {maior}\")"
   ]
  },
  {
   "cell_type": "markdown",
   "id": "984fe0fe",
   "metadata": {},
   "source": [
    "Exercício 8 - Dia da Semana\n",
    "Peça um número de 1 a 7 e mostre o dia da semana correspondente: 📅\n",
    "\n",
    "- 1: Domingo\n",
    "\n",
    "- 2: Segunda\n",
    "\n",
    "- ... até 7: Sábado"
   ]
  },
  {
   "cell_type": "code",
   "execution_count": 10,
   "id": "f34c6fbf",
   "metadata": {},
   "outputs": [
    {
     "name": "stdout",
     "output_type": "stream",
     "text": [
      "Sexta\n"
     ]
    }
   ],
   "source": [
    "numero = int(input(\"Digite um número de 1 até 7\"))\n",
    "\n",
    "if numero == 1:\n",
    "    print(\"Domingo\")\n",
    "\n",
    "elif numero == 2:\n",
    "    print(\"Segunda\")\n",
    "    \n",
    "elif numero == 3:\n",
    "    print(\"Terça\")\n",
    "\n",
    "elif numero == 4:\n",
    "    print(\"Quarta\")\n",
    "\n",
    "elif numero == 5:\n",
    "    print(\"Quinta\")\n",
    "\n",
    "elif numero == 6:\n",
    "    print(\"Sexta\")\n",
    "\n",
    "elif numero == 7:\n",
    "    print(\"Sábado\")"
   ]
  },
  {
   "cell_type": "markdown",
   "id": "f1f760b7",
   "metadata": {},
   "source": [
    "Exercício 9 - Calculadora Simples 📏📐\n",
    "\n",
    "- Faça uma calculadora que:\n",
    "\n",
    "- Pede dois números\n",
    "\n",
    "- Pede a operação (+, -, *, /)\n",
    "\n",
    "- Dependendo da operação mostre o resultado.\n",
    "\n"
   ]
  },
  {
   "cell_type": "code",
   "execution_count": 12,
   "id": "95c6ce03",
   "metadata": {},
   "outputs": [
    {
     "name": "stdout",
     "output_type": "stream",
     "text": [
      "35.0\n"
     ]
    }
   ],
   "source": [
    "numero1 = float(input(\"Digite seu primeiro numero para realizar a operação\"))\n",
    "operação = (input(\"Digite uma operação\"))\n",
    "numero2 = float(input(\"Digite seu segundo numero para realizar a operação\"))\n",
    "\n",
    "if operação == \"adição\" or operação == \"+\":\n",
    "    soma = numero1 + numero2\n",
    "    print(soma)\n",
    "\n",
    "elif operação == \"subtração\" or operação == \"-\":\n",
    "    subtracao = numero1 - numero2\n",
    "    print(subtracao)\n",
    "\n",
    "elif operação == \"multiplicação\" or operação == \"*\":\n",
    "    multiplicacao = numero1 * numero2\n",
    "    print(multiplicacao)\n",
    "\n",
    "elif operação == \"divisão\" or operação == \"/\":\n",
    "    divisao = numero1 / numero2\n",
    "    print(divisao)"
   ]
  },
  {
   "cell_type": "markdown",
   "id": "f39f6b73",
   "metadata": {},
   "source": [
    "Exercício 10 - Sistema de Multas 🚙🚘🧾\n",
    "\n",
    "\n",
    "- Velocidade máxima: 80 km/h 🚫\n",
    "\n",
    "- Até 80: \"Sem multa\"\n",
    "\n",
    "- 81-100: \"Multa leve\"\n",
    "\n",
    "- Acima de 100: \"Multa grave\""
   ]
  },
  {
   "cell_type": "code",
   "execution_count": 13,
   "id": "20fdc977",
   "metadata": {},
   "outputs": [
    {
     "name": "stdout",
     "output_type": "stream",
     "text": [
      "Você tomou uma multa leve❎\n"
     ]
    }
   ],
   "source": [
    "km = float(input(\"Digite os km's para uma avaliação\"))\n",
    "\n",
    "if km <= 80:\n",
    "    print(\"Você não tomou multa✅\")\n",
    "elif km >= 81 and km <= 100:\n",
    "    print(\"Você tomou uma multa leve❎\")\n",
    "else:\n",
    "    print(\"multa grave❌\")"
   ]
  }
 ],
 "metadata": {
  "kernelspec": {
   "display_name": "Python 3",
   "language": "python",
   "name": "python3"
  },
  "language_info": {
   "codemirror_mode": {
    "name": "ipython",
    "version": 3
   },
   "file_extension": ".py",
   "mimetype": "text/x-python",
   "name": "python",
   "nbconvert_exporter": "python",
   "pygments_lexer": "ipython3",
   "version": "3.13.2"
  }
 },
 "nbformat": 4,
 "nbformat_minor": 5
}
