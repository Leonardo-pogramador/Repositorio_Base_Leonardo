{
 "cells": [
  {
   "cell_type": "code",
   "execution_count": null,
   "id": "a70218a5",
   "metadata": {},
   "outputs": [],
   "source": [
    "import pyautogui as aut \n",
    "\n",
    "aut.press(\"Win\")\n",
    "aut.sleep(1)\n",
    "aut.write(\"Bloco de notas\")\n",
    "\n",
    "aut.press(\"Enter\")\n",
    "aut.sleep(1)\n",
    "aut.write(\"Bom dia, partiu fazer um progama muito do bacana :D\", interval= 0.5)"
   ]
  },
  {
   "cell_type": "markdown",
   "id": "76f031af",
   "metadata": {},
   "source": [
    "### COLOQUE O PARENTESES !!!!! AAAAAAAAAAAAAAAAAAAAAAAAA - ass : Mateus"
   ]
  },
  {
   "cell_type": "code",
   "execution_count": 1,
   "id": "9f758a56",
   "metadata": {},
   "outputs": [],
   "source": [
    "import pyautogui as aut \n",
    "\n",
    "aut.press(\"win\") #abre o win\n",
    "aut.sleep(1) \n",
    "aut.write(\"Google chome\") #escreve \"Google Chome\"\n",
    "aut.sleep(2) #Espera 2 segundos\n",
    "aut.press(\"Enter\") #aperta enter\n",
    "aut.sleep(2) #Espera 2 segundos\n",
    "aut.moveTo(950,549) #Coloca o mouse em cima do meu perfil no chome\n",
    "aut.sleep(2) #Espera 2 segundos\n",
    "aut.click()\n",
    "aut.sleep(2) #Espera 2 segundos\n",
    "aut.moveTo(670,374) #Coloca o mouse em cima da barra de pesquisa\n",
    "aut.click()\n",
    "aut.write(\"Youtube\", interval= 0.5) #Pesquisa youtube\n",
    "aut.sleep(2) #Espera 2 segundos\n",
    "aut.press(\"Enter\")\n",
    "aut.sleep(2) #Espera 2 segundos\n",
    "aut.moveTo(262,303) #coloca o mouse em cima do mouse do youtube\n",
    "aut.sleep(1) #Espera 1 segundos\n",
    "aut.click()\n",
    "aut.sleep(2) #Espera 2 segundos\n",
    "aut.moveTo(692,111) #Coloca o mouse em cima da barra de pesquisa do youtube\n",
    "aut.sleep(1)\n",
    "aut.click()\n",
    "aut.sleep(2) #Espera 2 segundos\n",
    "aut.write(\"Jao meninos e meninas\", interval= 0.5)\n",
    "aut.press(\"Enter\")\n",
    "aut.sleep(2)\n",
    "aut.moveTo(623,627)\n",
    "aut.sleep(2)\n",
    "aut.click()\n",
    "aut.sleep(1)\n",
    "aut.moveTo(1351,868)\n",
    "aut.click()\n",
    "\n",
    "\n",
    "\n",
    "\n"
   ]
  },
  {
   "cell_type": "markdown",
   "id": "9187da5c",
   "metadata": {},
   "source": [
    "### Email\n"
   ]
  },
  {
   "cell_type": "code",
   "execution_count": 15,
   "id": "e782f269",
   "metadata": {},
   "outputs": [],
   "source": [
    "\n",
    "import pyautogui as aut \n",
    "email = \"feitosa.leonardo0205@gmail.com\"\n",
    "assunto = \"teste\"\n",
    "\n",
    "aut.moveTo(1800,10) #Vai até o minimizar a pagina \n",
    "aut.sleep(1)\n",
    "aut.click()\n",
    "aut.sleep(2)\n",
    "aut.moveTo(346,333) #Vai até minha conta google na area de trabalho\n",
    "aut.sleep(1)\n",
    "aut.doubleClick()\n",
    "aut.sleep(2)\n",
    "aut.moveTo(985,459) #vai até o atalho do email no google\n",
    "aut.click()\n",
    "aut.sleep(1)\n",
    "aut.moveTo(87,189) #Vai até a area de criação do email\n",
    "aut.click()\n",
    "aut.sleep(2)\n",
    "aut.moveTo(1418,995) #vai nos arquivos das pastas\n",
    "aut.click()\n",
    "aut.sleep(2)\n",
    "aut.moveTo(369,188) #vai até o arquivo\n",
    "aut.sleep(2)\n",
    "aut.click()\n",
    "aut.sleep(2)\n",
    "aut.moveTo(793,503) #abre o arquivo\n",
    "aut.click()\n",
    "aut.sleep(2)\n",
    "aut.moveTo(1292,486) #vai até onde digita o email do destinatario\n",
    "aut.doubleClick()\n",
    "aut.sleep(1)\n",
    "aut.write(email)\n",
    "aut.sleep(2)\n",
    "aut.moveTo(1281,518) #vai até o assunto do email\n",
    "aut.click()\n",
    "aut.write(assunto)\n",
    "aut.sleep(2)\n",
    "aut.moveTo(1317,997) #envia o email\n",
    "aut.click()\n",
    "\n",
    "\n",
    "\n"
   ]
  },
  {
   "cell_type": "markdown",
   "id": "72da0ab8",
   "metadata": {},
   "source": [
    "### Senai"
   ]
  },
  {
   "cell_type": "code",
   "execution_count": 26,
   "id": "e3b3afc7",
   "metadata": {},
   "outputs": [],
   "source": [
    "import pyautogui as aut\n",
    "\n",
    "aut.moveTo(1800,10) #Vai até o minimizar a pagina \n",
    "aut.sleep(1)\n",
    "aut.click()\n",
    "aut.sleep(2)\n",
    "aut.moveTo(346,333) #Vai até minha conta google na area de trabalho\n",
    "aut.sleep(1)\n",
    "aut.doubleClick()\n",
    "aut.sleep(1)\n",
    "aut.moveTo(726,364)\n",
    "aut.click()\n",
    "aut.write(\"Senai santana de parnaiba\", interval= 0.1) # pesquisa o site do senai\n",
    "aut.sleep(2)\n",
    "aut.press(\"enter\")\n",
    "aut.sleep(1)\n",
    "aut.moveTo(302,366) # vai para o site e aperta para entrar\n",
    "aut.click()\n",
    "aut.sleep(2)\n",
    "aut.moveTo(1232,492) # entrar emn \"nossos cursos\"\n",
    "aut.click()\n",
    "aut.sleep(2)\n",
    "aut.moveTo(804,757)\n",
    "aut.doubleClick()\n",
    "aut.sleep(1)\n",
    "aut.moveTo(1080,360)\n",
    "aut.click()\n",
    "aut.sleep(1)\n",
    "aut.moveTo(1083,873)\n",
    "aut.sleep(1)\n",
    "aut.click()\n",
    "\n"
   ]
  },
  {
   "cell_type": "code",
   "execution_count": 24,
   "id": "762210d2",
   "metadata": {},
   "outputs": [],
   "source": [
    "import pyautogui as aut \n",
    "\n",
    "aut.mouseInfo()"
   ]
  }
 ],
 "metadata": {
  "kernelspec": {
   "display_name": "Python 3",
   "language": "python",
   "name": "python3"
  },
  "language_info": {
   "codemirror_mode": {
    "name": "ipython",
    "version": 3
   },
   "file_extension": ".py",
   "mimetype": "text/x-python",
   "name": "python",
   "nbconvert_exporter": "python",
   "pygments_lexer": "ipython3",
   "version": "3.13.2"
  }
 },
 "nbformat": 4,
 "nbformat_minor": 5
}
